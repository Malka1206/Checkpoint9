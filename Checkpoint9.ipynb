{
 "cells": [
  {
   "cell_type": "markdown",
   "id": "54bcbfb9",
   "metadata": {},
   "source": [
    "* question1"
   ]
  },
  {
   "cell_type": "code",
   "execution_count": 12,
   "id": "d0ec3423",
   "metadata": {},
   "outputs": [
    {
     "name": "stdout",
     "output_type": "stream",
     "text": [
      "insert your list length : -6\n",
      "insert your list length : 6\n",
      "insert elements in your list :4\n",
      "insert elements in your list :2\n",
      "insert elements in your list :9\n",
      "insert elements in your list :7\n",
      "insert elements in your list :3\n",
      "insert elements in your list :1\n",
      "this is your list : ['4', '2', '9', '7', '3', '1']\n",
      "this your sorted list :  ['1', '2', '3', '4', '7', '9']\n",
      "insert an element to search in your list: 4\n",
      "True your element is in position  3\n"
     ]
    }
   ],
   "source": [
    "def saisielist():\n",
    "    list_input=[]\n",
    "    length_list=int(input('insert your list length : '))\n",
    "    while length_list<=0 :\n",
    "        length_list=int(input('insert your list length : '))\n",
    "    for i in range (length_list):\n",
    "        element=input(\"insert elements in your list :\")\n",
    "        list_input.append(element)\n",
    "    print('this is your list :',list_input)\n",
    "    list_input=sorted(list_input)\n",
    "    print('this your sorted list : ',list_input)\n",
    "    return list_input\n",
    "def binary_search(list_search,first,last,element_search):\n",
    "    if last >= first:\n",
    "        mid = int(first + (last - first)/2)\n",
    "        if list_search[mid] == element_search:\n",
    "            return True,mid\n",
    "        elif list_search[mid] > element_search:\n",
    "            return binary_search(list_search, first, mid-1, element_search)\n",
    "        else:\n",
    "            return binary_search(list_search, mid+1, last, element_search)\n",
    "    else:\n",
    "        return False,0\n",
    "l=saisielist()\n",
    "f=0;la=len(l)-1\n",
    "element_input=input('insert an element to search in your list: ')\n",
    "result,index=binary_search(l,f,la,element_input)\n",
    "if index==0 :\n",
    "    print(result)\n",
    "else:\n",
    "    print(result,'your element is in position ',index)\n",
    "\n"
   ]
  },
  {
   "cell_type": "markdown",
   "id": "449e147f",
   "metadata": {},
   "source": [
    "* question2"
   ]
  },
  {
   "cell_type": "code",
   "execution_count": null,
   "id": "9aa8cbab",
   "metadata": {},
   "outputs": [],
   "source": [
    "element_input= int(input('insert an number: '))\n",
    "power_input=int(input('insert another number to power the first: ')) \n",
    "while power_input<0 :\n",
    "    power_input=int(input('insert another number to power the first: '))\n",
    "result=element_input**power_input\n",
    "print('this is your result :', result)"
   ]
  },
  {
   "cell_type": "markdown",
   "id": "4b388c72",
   "metadata": {},
   "source": [
    "* question3"
   ]
  },
  {
   "cell_type": "code",
   "execution_count": 14,
   "id": "0e56424d",
   "metadata": {},
   "outputs": [
    {
     "name": "stdout",
     "output_type": "stream",
     "text": [
      "insert your list length : -6\n",
      "insert your list length : 6\n",
      "insert elements in your list :1\n",
      "insert elements in your list :8\n",
      "insert elements in your list :5\n",
      "insert elements in your list :02\n",
      "insert elements in your list :4\n",
      "insert elements in your list :7\n",
      "this is your list : ['1', '8', '5', '02', '4', '7']\n",
      "this is your sorted list:  ['02', '1', '4', '5', '7', '8']\n"
     ]
    }
   ],
   "source": [
    "def saisielist():\n",
    "    list_input=[]\n",
    "    length_list=int(input('insert your list length : '))\n",
    "    while length_list<=0 :\n",
    "        length_list=int(input('insert your list length : '))\n",
    "    for i in range (length_list):\n",
    "        element=input(\"insert elements in your list :\")\n",
    "        list_input.append(element)\n",
    "    print('this is your list :',list_input)\n",
    "    return list_input\n",
    "def bubble_sort(a):\n",
    "    for i in range (len(a)-1):\n",
    "        \n",
    "        if a[i]>=a[i+1] :\n",
    "            d=a[i]\n",
    "            a[i]=a[i+1]\n",
    "            a[i+1]=d\n",
    "            \n",
    "    for i in range (len(a)-1):\n",
    "        if a[i]>a[i+1]:\n",
    "            a=bubble_sort(a)\n",
    "    return a\n",
    "l=saisielist()\n",
    "print('this is your sorted list: ',bubble_sort(l))"
   ]
  },
  {
   "cell_type": "markdown",
   "id": "e99dcd6d",
   "metadata": {},
   "source": [
    "* question4"
   ]
  },
  {
   "cell_type": "code",
   "execution_count": 19,
   "id": "4395dcb4",
   "metadata": {},
   "outputs": [
    {
     "name": "stdout",
     "output_type": "stream",
     "text": [
      "insert your list length : -6\n",
      "insert your list length : 6\n",
      "insert elements in your list :5\n",
      "insert elements in your list :2\n",
      "insert elements in your list :4\n",
      "insert elements in your list :8\n",
      "insert elements in your list :3\n",
      "insert elements in your list :1\n",
      "this is your list : ['5', '2', '4', '8', '3', '1']\n",
      "this is your sorted list:  ['1', '2', '3', '4', '5', '8']\n"
     ]
    }
   ],
   "source": [
    "def saisielist():\n",
    "    list_input=[]\n",
    "    length_list=int(input('insert your list length : '))\n",
    "    while length_list<=0 :\n",
    "        length_list=int(input('insert your list length : '))\n",
    "    for i in range (length_list):\n",
    "        element=input(\"insert elements in your list :\")\n",
    "        list_input.append(element)\n",
    "    print('this is your list :',list_input)\n",
    "    return list_input\n",
    "def mergeSort(myList):\n",
    "    if len(myList) > 1:\n",
    "        mid = len(myList) // 2\n",
    "        left = myList[:mid]\n",
    "        right = myList[mid:]\n",
    "        mergeSort(left)\n",
    "        mergeSort(right)\n",
    "        i = 0\n",
    "        j = 0\n",
    "        k = 0\n",
    "        while i < len(left) and j < len(right):\n",
    "            if left[i] < right[j]:\n",
    "                myList[k] = left[i]\n",
    "                i += 1\n",
    "            else:\n",
    "                myList[k] = right[j]\n",
    "                j += 1\n",
    "            k += 1\n",
    "        while i < len(left):\n",
    "            myList[k] = left[i]\n",
    "            i += 1\n",
    "            k += 1\n",
    "        while j < len(right):\n",
    "            myList[k]=right[j]\n",
    "            j += 1\n",
    "            k += 1\n",
    "    return myList\n",
    "l=saisielist()\n",
    "l_result=mergeSort(l)\n",
    "print('this is your sorted list: ',l_result)"
   ]
  },
  {
   "cell_type": "markdown",
   "id": "ce8bfd74",
   "metadata": {},
   "source": [
    "* question5"
   ]
  },
  {
   "cell_type": "code",
   "execution_count": 21,
   "id": "e070fab4",
   "metadata": {},
   "outputs": [
    {
     "name": "stdout",
     "output_type": "stream",
     "text": [
      "insert your list length : -6\n",
      "insert your list length : 6\n",
      "insert elements in your list :1\n",
      "insert elements in your list :5\n",
      "insert elements in your list :4\n",
      "insert elements in your list :2\n",
      "insert elements in your list :3\n",
      "insert elements in your list :9\n",
      "this is your list : ['1', '5', '4', '2', '3', '9']\n",
      "this is your sorted array:  ['1', '2', '3', '4', '5', '9']\n"
     ]
    }
   ],
   "source": [
    "def saisielist():\n",
    "    list_input=[]\n",
    "    length_list=int(input('insert your list length : '))\n",
    "    while length_list<=0 :\n",
    "        length_list=int(input('insert your list length : '))\n",
    "    for i in range (length_list):\n",
    "        element=input(\"insert elements in your list :\")\n",
    "        list_input.append(element)\n",
    "    print('this is your list :',list_input)\n",
    "    return list_input\n",
    "def partition(array, start, end):\n",
    "    pivot = array[start]\n",
    "    low = start + 1\n",
    "    high = end\n",
    "    while True:\n",
    "        while low <= high and array[high] >= pivot:\n",
    "            high = high - 1\n",
    "        while low <= high and array[low] <= pivot:\n",
    "            low = low + 1\n",
    "        if low <= high:\n",
    "            array[low], array[high] = array[high], array[low]\n",
    "        else:\n",
    "            break\n",
    "    array[start], array[high] = array[high], array[start]\n",
    "    return high\n",
    "def quick_sort(array, start, end):\n",
    "    if start >= end:\n",
    "        return\n",
    "    p = partition(array, start, end)\n",
    "    quick_sort(array, start, p-1)\n",
    "    quick_sort(array, p+1, end)\n",
    "l=saisielist()\n",
    "quick_sort(l,0,len(l)-1)\n",
    "print('this is your sorted array: ',l)"
   ]
  }
 ],
 "metadata": {
  "kernelspec": {
   "display_name": "Python 3",
   "language": "python",
   "name": "python3"
  },
  "language_info": {
   "codemirror_mode": {
    "name": "ipython",
    "version": 3
   },
   "file_extension": ".py",
   "mimetype": "text/x-python",
   "name": "python",
   "nbconvert_exporter": "python",
   "pygments_lexer": "ipython3",
   "version": "3.8.8"
  }
 },
 "nbformat": 4,
 "nbformat_minor": 5
}
